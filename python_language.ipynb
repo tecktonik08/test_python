{
  "nbformat": 4,
  "nbformat_minor": 0,
  "metadata": {
    "colab": {
      "name": "python_language.ipynb",
      "provenance": [],
      "authorship_tag": "ABX9TyNwAZYQdvCxmk8OeZt16YLN"
    },
    "kernelspec": {
      "name": "python3",
      "display_name": "Python 3"
    },
    "language_info": {
      "name": "python"
    }
  },
  "cells": [
    {
      "cell_type": "code",
      "metadata": {
        "id": "YXHMF9g-Tklw"
      },
      "source": [
        "import numpy as np"
      ],
      "execution_count": 1,
      "outputs": []
    },
    {
      "cell_type": "code",
      "metadata": {
        "colab": {
          "base_uri": "https://localhost:8080/",
          "height": 35
        },
        "id": "yhfKMPWQVSpz",
        "outputId": "9f233d72-e227-4ee1-e758-87a0ff3c5be6"
      },
      "source": [
        "np.__version__"
      ],
      "execution_count": 2,
      "outputs": [
        {
          "output_type": "execute_result",
          "data": {
            "application/vnd.google.colaboratory.intrinsic+json": {
              "type": "string"
            },
            "text/plain": [
              "'1.19.5'"
            ]
          },
          "metadata": {
            "tags": []
          },
          "execution_count": 2
        }
      ]
    },
    {
      "cell_type": "code",
      "metadata": {
        "id": "vJRGkAzv2axa"
      },
      "source": [
        "def onehotcylinder(cylinders):\n",
        "  if cylinders == 3:\n",
        "    cyl = np.array([1,0,0,0,0])\n",
        "  elif cylinders == 4:\n",
        "    cyl = np.array([0,1,0,0,0])\n",
        "  elif cylinders == 5:\n",
        "    cyl = np.array([0,0,1,0,0])\n",
        "  elif cylinders == 6:\n",
        "    cyl = np.array([0,0,0,1,0])\n",
        "  else:\n",
        "    cyl = np.array([0,0,0,0,1])\n",
        "  return cyl"
      ],
      "execution_count": 24,
      "outputs": []
    },
    {
      "cell_type": "code",
      "metadata": {
        "colab": {
          "base_uri": "https://localhost:8080/"
        },
        "id": "L10CXkR03VN0",
        "outputId": "7de02124-39c1-4cb0-e6a1-75a32c54e8e4"
      },
      "source": [
        "onehotcylinder(4), onehotcylinder(8)"
      ],
      "execution_count": 23,
      "outputs": [
        {
          "output_type": "execute_result",
          "data": {
            "text/plain": [
              "(array([0, 1, 0, 0, 0]), array([0, 0, 0, 0, 1]))"
            ]
          },
          "metadata": {
            "tags": []
          },
          "execution_count": 23
        }
      ]
    },
    {
      "cell_type": "code",
      "metadata": {
        "id": "DS3YzhcaVwWZ"
      },
      "source": [
        "displacement = 307.0\n",
        "horsepower = 130.0\n",
        "weight = 3504.0\n",
        "accel  = 12.0\n",
        "cylinders = 8\n",
        "origin = 1\n",
        "\n",
        "## if cylinders = 8, origin = 1 --> onehot encoding\n",
        "\n",
        "x_con = np.array([displacement, horsepower, weight, accel])\n",
        "# cyl = np.array([0,0,0,0,1]) # 8\n",
        "cyl = onehotcylinder(cylinders)\n",
        "org = np.array([1,0,0]) # 1"
      ],
      "execution_count": 25,
      "outputs": []
    },
    {
      "cell_type": "code",
      "metadata": {
        "id": "ivZHd4I8XbCG"
      },
      "source": [
        "type(x_con), type(cyl), type(org)"
      ],
      "execution_count": null,
      "outputs": []
    },
    {
      "cell_type": "code",
      "metadata": {
        "colab": {
          "base_uri": "https://localhost:8080/"
        },
        "id": "MFfptZKRXcM1",
        "outputId": "e56a6390-4c92-4cbe-99e4-0527006ade68"
      },
      "source": [
        "# np.concatenate((a,b), axis=None)\n",
        "np.round(np.concatenate((x_con, cyl, org), axis=None))"
      ],
      "execution_count": 9,
      "outputs": [
        {
          "output_type": "execute_result",
          "data": {
            "text/plain": [
              "array([3.070e+02, 1.300e+02, 3.504e+03, 1.200e+01, 0.000e+00, 0.000e+00,\n",
              "       0.000e+00, 0.000e+00, 1.000e+00, 1.000e+00, 0.000e+00, 0.000e+00])"
            ]
          },
          "metadata": {
            "tags": []
          },
          "execution_count": 9
        }
      ]
    },
    {
      "cell_type": "markdown",
      "metadata": {
        "id": "x1pWNmwtZsy-"
      },
      "source": [
        "[307.0, 130.0, 3504.0, 12.0, 0,0,0,0,1, 1,0,0] 표현"
      ]
    },
    {
      "cell_type": "code",
      "metadata": {
        "colab": {
          "base_uri": "https://localhost:8080/"
        },
        "id": "DiVTjqXXZHNi",
        "outputId": "99155233-6aa1-4005-a323-53da516aaeed"
      },
      "source": [
        "result = np.round(np.concatenate((x_con, cyl, org), axis=None))\n",
        "result.shape, result"
      ],
      "execution_count": 10,
      "outputs": [
        {
          "output_type": "execute_result",
          "data": {
            "text/plain": [
              "((12,),\n",
              " array([3.070e+02, 1.300e+02, 3.504e+03, 1.200e+01, 0.000e+00, 0.000e+00,\n",
              "        0.000e+00, 0.000e+00, 1.000e+00, 1.000e+00, 0.000e+00, 0.000e+00]))"
            ]
          },
          "metadata": {
            "tags": []
          },
          "execution_count": 10
        }
      ]
    },
    {
      "cell_type": "code",
      "metadata": {
        "colab": {
          "base_uri": "https://localhost:8080/"
        },
        "id": "tBdujil6ahRa",
        "outputId": "8d69cc3c-fbea-41a4-b935-88f665fd36e1"
      },
      "source": [
        "# result.reshape(1,12) \n",
        "result = result.reshape(-1, result.size)\n",
        "result.shape, result.size, result"
      ],
      "execution_count": 14,
      "outputs": [
        {
          "output_type": "execute_result",
          "data": {
            "text/plain": [
              "((1, 12),\n",
              " 12,\n",
              " array([[3.070e+02, 1.300e+02, 3.504e+03, 1.200e+01, 0.000e+00, 0.000e+00,\n",
              "         0.000e+00, 0.000e+00, 1.000e+00, 1.000e+00, 0.000e+00, 0.000e+00]]))"
            ]
          },
          "metadata": {
            "tags": []
          },
          "execution_count": 14
        }
      ]
    },
    {
      "cell_type": "markdown",
      "metadata": {
        "id": "JXx04eaVirHy"
      },
      "source": [
        "## function 이해"
      ]
    },
    {
      "cell_type": "code",
      "metadata": {
        "id": "asVuYxKNbMY0"
      },
      "source": [
        "def dut(f01,s02):\n",
        "  first = f01\n",
        "  second = s02\n",
        "  result = first + second\n",
        "  return result"
      ],
      "execution_count": 15,
      "outputs": []
    },
    {
      "cell_type": "code",
      "metadata": {
        "colab": {
          "base_uri": "https://localhost:8080/"
        },
        "id": "v_MDmkvopURH",
        "outputId": "104a38c8-660f-439e-b709-3b9acf1b78a5"
      },
      "source": [
        "dut(4,5)"
      ],
      "execution_count": 16,
      "outputs": [
        {
          "output_type": "execute_result",
          "data": {
            "text/plain": [
              "9"
            ]
          },
          "metadata": {
            "tags": []
          },
          "execution_count": 16
        }
      ]
    },
    {
      "cell_type": "code",
      "metadata": {
        "id": "4rfIBg3fpV7w"
      },
      "source": [
        "def gob(x,y,z):\n",
        "  x = x\n",
        "  y = y\n",
        "  z = z\n",
        "  result = x * y * z\n",
        "  return result"
      ],
      "execution_count": 17,
      "outputs": []
    },
    {
      "cell_type": "code",
      "metadata": {
        "colab": {
          "base_uri": "https://localhost:8080/"
        },
        "id": "C8VFXG6ftkxK",
        "outputId": "e2027706-729c-4616-e872-09f0cb5c07a2"
      },
      "source": [
        "gob(3,6,10)"
      ],
      "execution_count": 18,
      "outputs": [
        {
          "output_type": "execute_result",
          "data": {
            "text/plain": [
              "180"
            ]
          },
          "metadata": {
            "tags": []
          },
          "execution_count": 18
        }
      ]
    },
    {
      "cell_type": "code",
      "metadata": {
        "id": "EfTCk8WFtnEJ"
      },
      "source": [
        "# def differenceVars(*var01, **args02)\n",
        "def diffparam(*var_list, **var_dict):\n",
        "  print(var_dict)\n",
        "  result01 = len(var_list)\n",
        "  return result01"
      ],
      "execution_count": 20,
      "outputs": []
    },
    {
      "cell_type": "code",
      "metadata": {
        "colab": {
          "base_uri": "https://localhost:8080/"
        },
        "id": "ZfPzD_udzHVz",
        "outputId": "abc83fa5-b590-475e-80f6-1a6ec6339da3"
      },
      "source": [
        "diffparam(1,2,3, a=2, b=4)"
      ],
      "execution_count": 21,
      "outputs": [
        {
          "output_type": "stream",
          "text": [
            "{'a': 2, 'b': 4}\n"
          ],
          "name": "stdout"
        },
        {
          "output_type": "execute_result",
          "data": {
            "text/plain": [
              "3"
            ]
          },
          "metadata": {
            "tags": []
          },
          "execution_count": 21
        }
      ]
    },
    {
      "cell_type": "code",
      "metadata": {
        "id": "rQXYWrqUzglD"
      },
      "source": [
        ""
      ],
      "execution_count": null,
      "outputs": []
    }
  ]
}