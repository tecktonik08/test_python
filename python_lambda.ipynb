{
  "nbformat": 4,
  "nbformat_minor": 0,
  "metadata": {
    "colab": {
      "name": "python_lambda.ipynb",
      "provenance": [],
      "authorship_tag": "ABX9TyMjy8HHgq7h2YLp5phRDQ/C"
    },
    "kernelspec": {
      "name": "python3",
      "display_name": "Python 3"
    },
    "language_info": {
      "name": "python"
    }
  },
  "cells": [
    {
      "cell_type": "markdown",
      "metadata": {
        "id": "8mGJmHWihAuJ"
      },
      "source": [
        "lambda를 사용하면 아래와 같은 함수 정의를 간단하게 나타냄"
      ]
    },
    {
      "cell_type": "code",
      "metadata": {
        "colab": {
          "base_uri": "https://localhost:8080/"
        },
        "id": "LP86ORr0cqf_",
        "outputId": "94ee593d-a4ba-475e-8174-f134f91664e3"
      },
      "source": [
        "(lambda first, second : first * second + 20)(10, 3)"
      ],
      "execution_count": 15,
      "outputs": [
        {
          "output_type": "execute_result",
          "data": {
            "text/plain": [
              "50"
            ]
          },
          "metadata": {
            "tags": []
          },
          "execution_count": 15
        }
      ]
    },
    {
      "cell_type": "code",
      "metadata": {
        "id": "3Plklj0mftPf"
      },
      "source": [
        "def plus(first, second) : # 함수 정의\n",
        "  result = first + 20\n",
        "  return result"
      ],
      "execution_count": 9,
      "outputs": []
    },
    {
      "cell_type": "code",
      "metadata": {
        "colab": {
          "base_uri": "https://localhost:8080/"
        },
        "id": "MV_ymruOgZQG",
        "outputId": "db639d4e-4cf2-4356-c5f8-c2a1a1a3a948"
      },
      "source": [
        "plus(10)"
      ],
      "execution_count": 10,
      "outputs": [
        {
          "output_type": "execute_result",
          "data": {
            "text/plain": [
              "30"
            ]
          },
          "metadata": {
            "tags": []
          },
          "execution_count": 10
        }
      ]
    },
    {
      "cell_type": "markdown",
      "metadata": {
        "id": "B0KOLt17hJy_"
      },
      "source": [
        "lambda를 변수안에 저장하면 재사용가능"
      ]
    },
    {
      "cell_type": "code",
      "metadata": {
        "id": "KYPAPnnigk73"
      },
      "source": [
        "plus_lambda = (lambda first: first + 20)  # lambda 정의"
      ],
      "execution_count": 12,
      "outputs": []
    },
    {
      "cell_type": "code",
      "metadata": {
        "colab": {
          "base_uri": "https://localhost:8080/"
        },
        "id": "64uUSV3rhiHf",
        "outputId": "e23e8a76-305b-47af-dbf2-87cfe7c3d5b5"
      },
      "source": [
        "plus_lambda(10)"
      ],
      "execution_count": 13,
      "outputs": [
        {
          "output_type": "execute_result",
          "data": {
            "text/plain": [
              "30"
            ]
          },
          "metadata": {
            "tags": []
          },
          "execution_count": 13
        }
      ]
    },
    {
      "cell_type": "code",
      "metadata": {
        "id": "4rTPjJf3iHoP"
      },
      "source": [
        ""
      ],
      "execution_count": null,
      "outputs": []
    }
  ]
}