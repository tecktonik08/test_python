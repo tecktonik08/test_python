{
  "nbformat": 4,
  "nbformat_minor": 0,
  "metadata": {
    "colab": {
      "name": "python_map.ipynb",
      "provenance": [],
      "authorship_tag": "ABX9TyPJFl64fHlTCVsff2Vi68Re"
    },
    "kernelspec": {
      "name": "python3",
      "display_name": "Python 3"
    },
    "language_info": {
      "name": "python"
    }
  },
  "cells": [
    {
      "cell_type": "code",
      "metadata": {
        "id": "tNcuS9XgjfoF"
      },
      "source": [
        "def calSquare(num):\n",
        "  result = num * num\n",
        "  return result"
      ],
      "execution_count": 1,
      "outputs": []
    },
    {
      "cell_type": "code",
      "metadata": {
        "colab": {
          "base_uri": "https://localhost:8080/"
        },
        "id": "tvFsEg7mk--o",
        "outputId": "0fea33b5-914d-4d7b-f125-2605b7d63ec5"
      },
      "source": [
        "numbers = (1,2)\n",
        "type(numbers)"
      ],
      "execution_count": 4,
      "outputs": [
        {
          "output_type": "execute_result",
          "data": {
            "text/plain": [
              "tuple"
            ]
          },
          "metadata": {
            "tags": []
          },
          "execution_count": 4
        }
      ]
    },
    {
      "cell_type": "markdown",
      "metadata": {
        "id": "BxwzvhTxsONN"
      },
      "source": [
        "map(리스트, 튜플, 딕셔너리 입력)을 사용하면 for문으로 한 번에 다수의 함수 결과값을 계산할 수 있음"
      ]
    },
    {
      "cell_type": "code",
      "metadata": {
        "colab": {
          "base_uri": "https://localhost:8080/"
        },
        "id": "60NzCl7xlQG_",
        "outputId": "5dbad036-1943-4a46-ab14-1f612b591267"
      },
      "source": [
        "result = map(calSquare, numbers)\n",
        "print(set(result))"
      ],
      "execution_count": 8,
      "outputs": [
        {
          "output_type": "stream",
          "text": [
            "{1, 4}\n"
          ],
          "name": "stdout"
        }
      ]
    },
    {
      "cell_type": "code",
      "metadata": {
        "colab": {
          "base_uri": "https://localhost:8080/"
        },
        "id": "h-7lBtIalwzX",
        "outputId": "a63ad56e-9cf2-4718-e621-bf35af28b93b"
      },
      "source": [
        "calplus = (lambda first, second : first + second)\n",
        "type(calplus)"
      ],
      "execution_count": 9,
      "outputs": [
        {
          "output_type": "execute_result",
          "data": {
            "text/plain": [
              "function"
            ]
          },
          "metadata": {
            "tags": []
          },
          "execution_count": 9
        }
      ]
    },
    {
      "cell_type": "code",
      "metadata": {
        "colab": {
          "base_uri": "https://localhost:8080/"
        },
        "id": "QX5NOS0iqZZO",
        "outputId": "d901bc53-f090-4e7a-b513-226f3ca9ba5f"
      },
      "source": [
        "number01 = [1,2,3]\n",
        "number02 = [4,5,6]\n",
        "type(number01), type(number02)"
      ],
      "execution_count": 10,
      "outputs": [
        {
          "output_type": "execute_result",
          "data": {
            "text/plain": [
              "(list, list)"
            ]
          },
          "metadata": {
            "tags": []
          },
          "execution_count": 10
        }
      ]
    },
    {
      "cell_type": "code",
      "metadata": {
        "colab": {
          "base_uri": "https://localhost:8080/"
        },
        "id": "q3dedPRyq7nJ",
        "outputId": "e63d6f81-bff3-4b5c-aa78-93a797eeeb5e"
      },
      "source": [
        "calplus(number01[0],number02[0])"
      ],
      "execution_count": 11,
      "outputs": [
        {
          "output_type": "execute_result",
          "data": {
            "text/plain": [
              "5"
            ]
          },
          "metadata": {
            "tags": []
          },
          "execution_count": 11
        }
      ]
    },
    {
      "cell_type": "code",
      "metadata": {
        "colab": {
          "base_uri": "https://localhost:8080/"
        },
        "id": "oIfKl0bGrAG4",
        "outputId": "0f7fb259-5df4-4dc5-a1f5-0fbe49d75a12"
      },
      "source": [
        "result = map(calplus, number01,number02)\n",
        "list(result) "
      ],
      "execution_count": 12,
      "outputs": [
        {
          "output_type": "execute_result",
          "data": {
            "text/plain": [
              "[5, 7, 9]"
            ]
          },
          "metadata": {
            "tags": []
          },
          "execution_count": 12
        }
      ]
    },
    {
      "cell_type": "code",
      "metadata": {
        "id": "pccVP7j8r7pf"
      },
      "source": [
        ""
      ],
      "execution_count": null,
      "outputs": []
    }
  ]
}